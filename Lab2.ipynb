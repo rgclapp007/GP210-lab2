{
  "cells": [
    {
      "cell_type": "markdown",
      "metadata": {
        "id": "rwlEBepu_zQw"
      },
      "source": [
        "<h3><center>Due Date: October 22, 2021 <br/>TA: Júlio Oliva Frigério (juliojof@stanford.edu)</center></h3> "
      ]
    },
    {
      "cell_type": "markdown",
      "metadata": {
        "id": "D2CanEbZ_zQ4"
      },
      "source": [
        "<h1><center>Lab2: Causal and anti-causal integration plus fun\n",
        "with adjoints (Python version)</center></h1>"
      ]
    },
    {
      "cell_type": "markdown",
      "metadata": {
        "id": "ljxEb1BP_zQ5"
      },
      "source": [
        "<h3><center><em>Your Name Here<em/></center></h3> "
      ]
    },
    {
      "cell_type": "markdown",
      "metadata": {
        "id": "qjZ2Z6qP_zQ5"
      },
      "source": [
        "---\n",
        "**Abstract**\n",
        "\n",
        "You are first given a subroutine \n",
        "which performs causal and anti-causal integration. Your task is to code the dot-product test to verify\n",
        "that the given anti-causal integration is the adjoint of the causal \n",
        "integration. Then you will have to answer some questions and apply the\n",
        "concept of causal and anti-causal integration. Secondly, you will have\n",
        "several subroutines with the adjoints removed. The adjoints are also\n",
        "provided, so you simply have to match the correct adjoint with each\n",
        "subroutine.\n",
        "\n",
        "---\n"
      ]
    },
    {
      "cell_type": "markdown",
      "metadata": {
        "id": "VL-ewEKR_zQ6"
      },
      "source": [
        "<h2><center>INTRODUCTION<h2/>"
      ]
    },
    {
      "cell_type": "markdown",
      "metadata": {
        "id": "whkEwdNM_zQ6"
      },
      "source": [
        "Causal integration is defined as:\n",
        "$$\n",
        "y(t) = \\int_{-\\infty}^t x(t) dt\n",
        "$$\n",
        "\n",
        "The following triangular matrix is being implemented as the discrete version of causal integration (see section 2.1.6 of BEI):\n",
        "\n",
        "$$\\begin{equation}\n",
        "  \\left[\n",
        "\t\\begin{array}{c}\n",
        "\t\ty_0 \\\\\n",
        "\t\ty_1 \\\\\n",
        "\t\ty_2 \\\\\n",
        "\t\ty_3 \\\\\n",
        "\t\ty_4 \\\\\n",
        "\t\ty_5 \\\\\n",
        "\t\ty_6 \\\\\n",
        "\t\ty_7 \\\\\n",
        "\t\ty_8 \\\\\n",
        "\t\ty_9 \\\\\n",
        "\t\\end{array}\n",
        "  \\right]\n",
        " \\quad = \\quad\n",
        "  \\left[\n",
        "\t\\begin{array}{ccccccccccc}\n",
        "\t1&0&0&0&0&0&0&0&0&0 \\\\\n",
        "\t1&1&0&0&0&0&0&0&0&0 \\\\\n",
        "\t1&1&1&0&0&0&0&0&0&0 \\\\\n",
        "\t1&1&1&1&0&0&0&0&0&0 \\\\\n",
        "\t1&1&1&1&1&0&0&0&0&0 \\\\\n",
        "\t1&1&1&1&1&1&0&0&0&0 \\\\\n",
        "\t1&1&1&1&1&1&1&0&0&0 \\\\\n",
        "\t1&1&1&1&1&1&1&1&0&0 \\\\\n",
        "\t1&1&1&1&1&1&1&1&1&0 \\\\\n",
        "\t1&1&1&1&1&1&1&1&1&1\n",
        "\t\\end{array}\n",
        "  \\right]\n",
        "  \\ \\ \n",
        "  \\left[\n",
        "\t\\begin{array}{c}\n",
        "\t\tx_0 \\\\\n",
        "\t\tx_1 \\\\\n",
        "\t\tx_2 \\\\\n",
        "\t\tx_3 \\\\\n",
        "\t\tx_4 \\\\\n",
        "\t\tx_5 \\\\\n",
        "\t\tx_6 \\\\\n",
        "\t\tx_7 \\\\\n",
        "\t\tx_8 \\\\\n",
        "\t\tx_9 \\\\\n",
        "\t\\end{array}\n",
        "  \\right]\n",
        "\\label{eq:mytri}\\tag{1}\n",
        "\\end{equation}\n",
        "$$"
      ]
    },
    {
      "cell_type": "markdown",
      "metadata": {
        "id": "hQgwAlPQ_zQ6"
      },
      "source": [
        "The adjoint of causal integration is anti-causal integration.\n",
        "If we call the matrix in equation [1](#mjx-eqn-eq1) ${\\bf C}$, transposing it to\n",
        "get ${\\bf C'}$ and applying it to ${\\bf y}$ gives us something back in the\n",
        "space of ${\\bf x}$, namely $\\tilde{\\bf x} = {\\bf C' y}$.\n",
        "\n",
        "The code for anti-causal integration is not always obvious\n",
        "from the code for integration, and it is easy to make little\n",
        "mistakes. To verify that the code for causal \n",
        "integration and anti-causal integration are really adjoint \n",
        "to each other, the dot-product test has to be performed.\n",
        "The vectors ${\\bf x}$ and ${\\bf y}$ are loaded with random numbers. Then \n",
        "$\\tilde{\\bf y} = {\\bf C x}$ and $\\tilde{\\bf x} = {\\bf C' y}$\n",
        "have to fullfill the following relationship: \n",
        "${\\bf y' (C x) = (C' y)' x}$.\n",
        "\n",
        "To understand the adjoint, you need to inspect\n",
        "the detailed form of the expression $\\tilde{\\bf x} = {\\bf C' y}$."
      ]
    },
    {
      "cell_type": "markdown",
      "metadata": {
        "id": "_96GShhB_zQ7"
      },
      "source": [
        "<h2><center>CAUSAL AND ANTI-CAUSAL INTEGRATION<h2/>"
      ]
    },
    {
      "cell_type": "code",
      "execution_count": null,
      "metadata": {
        "id": "32iEb1In_zQ7"
      },
      "outputs": [],
      "source": [
        "#################################################################\n",
        "# This code block imports the necessary python modules needed for this lab\n",
        "#################################################################\n",
        "import numpy as np\n",
        "import matplotlib.pyplot as plt"
      ]
    },
    {
      "cell_type": "code",
      "execution_count": null,
      "metadata": {
        "id": "BWehzJJD_zQ8"
      },
      "outputs": [],
      "source": [
        "#################################################################\n",
        "## This code block contains the definition of the causal integration. \n",
        "## You will be altering and adding code to the functions \n",
        "## in order to answer the questions below.\n",
        "#################################################################\n",
        "class Operator():\n",
        "    def __init__(self):\n",
        "        pass\n",
        "\n",
        "    def forward(self, add, model, data):\n",
        "        print(\"Not implemented\")\n",
        "        \n",
        "    def adjoint(self, add, model, data):\n",
        "        print(\"Not implemented\")\n",
        "\n",
        "    def dotTest(self, model, data):\n",
        "        xtilde = np.zeros(model.size)\n",
        "        ytilde = np.zeros(data.size)\n",
        "        # fill model and data with random numbers\n",
        "        iseed=1992\n",
        "        np.random.seed(seed=iseed)\n",
        "        model = np.random.rand(model.size)\n",
        "        data = np.random.rand(data.size)\n",
        "\n",
        "        # fill in computation for ytilde\n",
        "        #your code here\n",
        "        # fill in computation for xtilde\n",
        "        #your code here\n",
        "\n",
        "        # calculate the inner product:\n",
        "        xscalar = np.dot(xtilde,model)\n",
        "        yscalar = np.dot(ytilde,data)\n",
        "\n",
        "        return np.abs(1. - xscalar/yscalar)\n",
        "        \n",
        "        \n",
        "class CausalIntegration(Operator):\n",
        "    def __init__(self):\n",
        "        super().__init__()\n",
        "\n",
        "    def forward(self, add, model, data):\n",
        "        if (not add): data *= 0\n",
        "        temp = 0\n",
        "        for i in range(data.size):\n",
        "            data[i] += model[i] + temp\n",
        "            temp = data[i]\n",
        "\n",
        "    def adjoint(self, add, model, data):\n",
        "        if (not add): model *= 0\n",
        "        temp = 0\n",
        "        for i in range(data.size-1,-1,-1):\n",
        "            # your code here\n",
        "\n",
        "def runCausalIntegration(n1=32,n2=7):\n",
        "        data = np.zeros((n1,n2))\n",
        "\n",
        "        # create the object\n",
        "        causint = CausalIntegration()\n",
        "\n",
        "        # in1\n",
        "        data[int(n1/2),0] = 1.\n",
        "        causint.forward( 0, data[:,0], data[:,1] ) # C in1\n",
        "        causint.forward( 0, data[:,1], data[:,2] ) # CC in1\n",
        "        \n",
        "        # in2:\n",
        "        data[int(n1/3),3] = 1.\n",
        "        data[int(2*n1/3),3] = -1.\n",
        "        causint.forward( 0, data[:,3], data[:,4] ) # C in2\n",
        "        causint.forward( 0, data[:,4], data[:,5] ) # CC in2\n",
        "        causint.forward( 0, data[:,5], data[:,6] ) # CCC in2\n",
        "\n",
        "        return data"
      ]
    },
    {
      "cell_type": "code",
      "execution_count": null,
      "metadata": {
        "id": "YliWqSS9_zQ9",
        "outputId": "a7678d4f-c277-447a-f29a-72f21c0340ae"
      },
      "outputs": [
        {
          "name": "stderr",
          "output_type": "stream",
          "text": [
            "/opt/miniconda3/lib/python3.7/site-packages/ipykernel_launcher.py:16: UserWarning: In Matplotlib 3.3 individual lines on a stem plot will be added as a LineCollection instead of individual lines. This significantly improves the performance of a stem plot. To remove this warning and switch to the new behaviour, set the \"use_line_collection\" keyword argument to True.\n",
            "  app.launch_new_instance()\n"
          ]
        },
        {
          "data": {
            "image/png": "[encoded data removed]",
            "text/plain": [
              "<Figure size 1440x1008 with 7 Axes>"
            ]
          },
          "metadata": {
            "needs_background": "light"
          },
          "output_type": "display_data"
        }
      ],
      "source": [
        "#################################################################\n",
        "## This block runs causal integration and plots the results\n",
        "#################################################################\n",
        "\n",
        "# Runs Causint function\n",
        "data = runCausalIntegration()\n",
        "\n",
        "# Plots data, the result of Causint\n",
        "fig, axs = plt.subplots(7, 1, figsize=(20, 14), sharex=True)\n",
        "\n",
        "#This list of strings is used to make the titles seen on the left side of each subplot.\n",
        "titles=['in1','C in1','CC in1','in2','C in2','CC in2','CCC in2']\n",
        "\n",
        "#loop over the seven subplots and plot them using the 'stem' plotting tool\n",
        "for i in np.arange(7):\n",
        "    axs[i].stem(data[:,i])\n",
        "    axs[i].set_ylabel(titles[i],rotation=0,labelpad=30)\n",
        "plt.rc('text')\n",
        "\n",
        "\n",
        "#This adds the caption under the figure\n",
        "plt.figtext(0.5, 0.01, r'Figure 1: in1 is an input pulse. C in1 is its causal integral. CC in1 is double causal integral. in2 is a pulse doublet. ' '\\n' r'C in2 is the causal integration of in2. CC in2  is double causal integration. CCC in2 is triple causal integration. ', wrap=True, horizontalalignment='center', fontsize=18)\n",
        "plt.show()"
      ]
    },
    {
      "cell_type": "markdown",
      "metadata": {
        "id": "r0U23wRS_zQ9"
      },
      "source": [
        "1. Change the location of the input spike on the first line of\n",
        "Figure 1 by editing the program <tt>runCausalIntegration<tt>."
      ]
    },
    {
      "cell_type": "markdown",
      "metadata": {
        "id": "2I57hWim_zQ-"
      },
      "source": [
        "2. After you have made your changes, rerun the jupyter cell that runs causal integration and plot the results."
      ]
    },
    {
      "cell_type": "markdown",
      "metadata": {
        "id": "H-P_tx32_zQ-"
      },
      "source": [
        "3. Generate a new figure similar to Figure 1 so that the third plot becomes the anti-causal integration of <tt>in1</tt> and the\n",
        "sixth plot -- the anti-causal integration\n",
        "of <tt>in2</tt> (do not modify the code for other plots).  To do that you will first implement the correct adjoint of the operator and modify the <tt>runCausalIntegration<tt>."
      ]
    },
    {
      "cell_type": "markdown",
      "metadata": {
        "id": "ireFSt7i_zQ-"
      },
      "source": [
        "4. Before you start to work with the causal and anti-causal integration,\n",
        "you have to make sure that the operator given by <tt>CausalIntegration</tt> really \n",
        "defines two adjoint processes, i.e. make sure that the \n",
        "anti-causal integration is really the\n",
        "adjoint of the causal integration. To do that, you will have to\n",
        "perform the dot-product test. You will have to change the method <tt>dotTest</tt> defined in the base class <tt>Operator</tt>.  \n",
        "You must \n",
        "code $\\tilde {\\bf x} = {\\bf C' y}$ and $\\tilde {\\bf y} = {\\bf C x}$ by filling in the two missing lines.\n",
        "If the forward and adjoint are correctly implemented, the relative difference between the two\n",
        "numbers <tt>xscalar</tt> and <tt>yscalar</tt> should be close to machine-precision and non-zero."
      ]
    },
    {
      "cell_type": "code",
      "execution_count": null,
      "metadata": {
        "id": "ZHygvtPw_zQ_",
        "outputId": "1e72e01f-a897-47c7-ffe6-7440450b8991"
      },
      "outputs": [
        {
          "data": {
            "text/plain": [
              "4.440892098500626e-16"
            ]
          },
          "execution_count": 25,
          "metadata": {},
          "output_type": "execute_result"
        }
      ],
      "source": [
        "model = np.zeros(100)\n",
        "data = np.zeros(100)\n",
        "# perform the dot-product test\n",
        "causint = CausalIntegration()\n",
        "causint.dotTest(model,data)"
      ]
    },
    {
      "cell_type": "markdown",
      "metadata": {
        "id": "WJojQaZX_zQ_"
      },
      "source": [
        "5. After you have checked that the program does what it is supposed to do,\n",
        "change the signal named <tt>in2</tt> so that the sixth line in\n",
        "Figure 1 turns out to be a triangle function which is\n",
        "symmetrically placed in time with respect to the signal <tt>in2</tt>. \n",
        "(Hint:  Try ${\\bf C' C}$ or ${\\bf C C'}$.)  You will once again be\n",
        "editing <tt>runCausalIntegration</tt>."
      ]
    },
    {
      "cell_type": "markdown",
      "metadata": {
        "id": "WLHxzlyu_zQ_"
      },
      "source": [
        "6. Now change your signal in such a way that you obtain an antisymmetrical \n",
        "triangle function instead of a symmetrical triangle function (one side \n",
        "is longer than the other). Plot the result on the seventh line in Figure 1.\n",
        "Describe what has to be changed with respect \n",
        "to the symmetric triangle function."
      ]
    },
    {
      "cell_type": "markdown",
      "metadata": {
        "id": "p6fvGiTn_zQ_"
      },
      "source": [
        "> **<tt>Your answer:</tt>**  Type answer here. "
      ]
    },
    {
      "cell_type": "markdown",
      "metadata": {
        "id": "pnViwZ9u_zQ_"
      },
      "source": [
        "7. Change the plot labels and the figure caption:\n",
        "    - Change the labels in the plot by editing the Jupyter cell that runs causal integration and plots the results (you  only need to edit the list of strings for the titles. No need to edit the matplotlib syntax). Correct them to describe your calculation. \n",
        "\n",
        "    - Change the caption in the plot by editing the Jupyter cell that runs causal integration and plots the results (you  only need to edit the text within the 'plt.figtext' function call. No need to edit the matplotlib syntax). Correct them to describe your calculation. "
      ]
    },
    {
      "cell_type": "markdown",
      "metadata": {
        "id": "K7YOF5br_zRA"
      },
      "source": [
        "8. What you have done in this lab, is convolving a spike (delta) function with a triangle function, by two passes of causal integration. Triangle smoothing is popular amongst geophysicists because of its speed. Integration is fast because it is recursive.\n",
        "\n",
        "    - How does the cost of triangle smoothing compare with the cost\n",
        "of smoothing by applying a time-domain convolution filter? (Hint: how\n",
        "do the costs vary with the length of smoothing operator).\n",
        "\n",
        "    > **<tt>Your answer:</tt>**  Type answer here. \n",
        "\n",
        "    - If you were to filter with a triangle a few more times, it would\n",
        "quickly become equivalent to smoothing with what function? \n",
        "\n",
        "    > **<tt>Your answer:</tt>**  Type answer here. "
      ]
    },
    {
      "cell_type": "markdown",
      "metadata": {
        "id": "4kxGOSgU_zRA"
      },
      "source": [
        "<h2><center>FUN WITH ADJOINTS<h2/>"
      ]
    },
    {
      "cell_type": "markdown",
      "metadata": {
        "id": "oo7T2baq_zRA"
      },
      "source": [
        "Understanding the adjoint operator for each forward operator is important. Most of geophysics is based on knowing how to convert from model space to data space and back again. The following exercise is designed to help you learn what the adjoint to a particular operator will be, without asking you to code it.\n",
        "\n",
        "The first subsection has several subroutines with the adjoints\n",
        "removed. The second subsection has several orphaned adjoints.\n",
        "Your task is to determine which adjoint belongs in which subroutine.\n",
        "You can then move the proper adjoint into the proper subroutine by double clicking on the cell containing the adjoint, copying the code, and pasting it in the proper subroutine where is says <tt>INSERT ADJOINT</tt>.\n",
        "\n",
        "Note that there are more adjoints than there are subroutines -- I've\n",
        "got to make it tricky for you, right? \n",
        "\n",
        "Explain how you found the adjoint in each case. Any logical explanation is\n",
        "valid, from the simplest to the most complex. You will find a place to enter you explanation under each subroutine."
      ]
    },
    {
      "cell_type": "markdown",
      "metadata": {
        "id": "cBhNO7A-_zRA"
      },
      "source": [
        "## Subroutines"
      ]
    },
    {
      "cell_type": "markdown",
      "metadata": {
        "id": "DKKu4JqH_zRB"
      },
      "source": [
        "### Subroutine 1"
      ]
    },
    {
      "cell_type": "markdown",
      "metadata": {
        "id": "6NLvYJBh_zRB"
      },
      "source": [
        "```\n",
        "subroutine charming(adj, add, xx, nx, yy, ny)\n",
        "    \n",
        "integer i1, i2, adj, add, nx, ny\n",
        "real    xx(nx), yy(ny)\n",
        "\n",
        "if( add == 0 )\n",
        "    if( adj == 0 )\n",
        "                do i2= 1, ny\n",
        "                        yy(i2) = 0.\n",
        "        else\n",
        "\n",
        "\t\t\t\t\t\tINSERT ADJOINT\n",
        "\n",
        "return; end\n",
        "```"
      ]
    },
    {
      "cell_type": "markdown",
      "metadata": {
        "id": "8AgKiNRy_zRB"
      },
      "source": [
        "> **<tt>Your explanation:</tt>**  Type answer here. "
      ]
    },
    {
      "cell_type": "markdown",
      "metadata": {
        "id": "9KCO4mZm_zRB"
      },
      "source": [
        "### Subroutine 2"
      ]
    },
    {
      "cell_type": "markdown",
      "metadata": {
        "id": "q6fMiPc9_zRB"
      },
      "source": [
        "```\n",
        "subroutine bashful( adj, add, nx, array, nb, xx, yy)\n",
        "\n",
        "integer i2, i1, ny, adj, add, nx, nb\n",
        "real    array(nx)               \n",
        "real    xx(nb)                \n",
        "real    yy(nx+nb-1)        \n",
        "\n",
        "ny = nx + nb - 1         \n",
        "call adjnull(adj, add, xx, nb, yy, ny)\n",
        "\n",
        "do i1= 1, nb {\n",
        "do i2= 1, nx {\n",
        "        if( adj == 0 )\n",
        "                yy(i1+i2-1) = yy(i1+i2-1) + array(i2) * xx(i1)\n",
        "        else\n",
        "            \n",
        "                        INSERT ADJOINT\n",
        "\n",
        "        }}\n",
        "return; end\n",
        "```"
      ]
    },
    {
      "cell_type": "markdown",
      "metadata": {
        "id": "OUpfPnrt_zRB"
      },
      "source": [
        "> **<tt>Your explanation:</tt>**  Type answer here. "
      ]
    },
    {
      "cell_type": "markdown",
      "metadata": {
        "id": "U5cD_HkD_zRB"
      },
      "source": [
        "### Subroutine 3"
      ]
    },
    {
      "cell_type": "markdown",
      "metadata": {
        "id": "3v1yRgWz_zRC"
      },
      "source": [
        "```\n",
        "subroutine sleepy(adj, add, n1,n2, xx, yy)\n",
        "\n",
        "integer adj, add\n",
        "integer i1, i2, n1, n2\n",
        "real    xx(n1,n2), yy(n1,n2,2)\n",
        "\n",
        "call adjnull(adj, add,xx,n1*n2,  yy,n1*n2*2)\n",
        "\n",
        "do i1= 1, n1-1 {\n",
        "do i2= 1, n2-1 {\n",
        "        if( adj == 0 ) {\n",
        "                yy(i1,i2,1) = yy(i1,i2,1) + (xx(i1+1,i2) - xx(i1,i2))\n",
        "                yy(i1,i2,2) = yy(i1,i2,2) + (xx(i1,i2+1) - xx(i1,i2))\n",
        "        }\n",
        "        else {  \n",
        "            \n",
        "                        INSERT ADJOINT\n",
        "\n",
        "        }\n",
        "}}\n",
        "return; end\n",
        "```"
      ]
    },
    {
      "cell_type": "markdown",
      "metadata": {
        "id": "FyYEiuDy_zRC"
      },
      "source": [
        "> **<tt>Your explanation:</tt>**  Type answer here. "
      ]
    },
    {
      "cell_type": "markdown",
      "metadata": {
        "id": "7CLQpGxk_zRC"
      },
      "source": [
        "### Subroutine 4"
      ]
    },
    {
      "cell_type": "markdown",
      "metadata": {
        "id": "zxUaSeLR_zRC"
      },
      "source": [
        "```\n",
        "subroutine happy(adj, add, array, t0, dt, dx, xx, nt, nx, yy)\n",
        "\n",
        "integer i1, i2, i3, i4, adj, add, nt,nx\n",
        "real    amp, t, z, b, t0, dt, dx\n",
        "real    array(nt), xx(nt,nx), yy(nt,nx)\n",
        "\n",
        "call adjnull(adj, add, xx, nt*nx, yy, nt*nx)\n",
        "\n",
        "do i4= -nx, nx {\n",
        "        b = dx * i4                     \n",
        "        do i2= 2, nt {\n",
        "                z = t0 + dt * (i2-1)          \n",
        "                t = sqrt( z**2  +  (b*2/array(i2))**2 )\n",
        "                i1 = 1.5 + (t - t0) / dt\n",
        "\n",
        "                if( i1 > nt )  break\n",
        "                amp = (z / t)  *  sqrt( nt*dt / t )\n",
        "\n",
        "                do i3= max0(1, 1-i4),  min0(nx, nx-i4)\n",
        "                        if( adj == 0 )\n",
        "                                yy(i1,i3+i4)=yy(i1,i3+i4)+xx(i2,i3)*amp\n",
        "                        else\n",
        "            \n",
        "                        INSERT ADJOINT\n",
        "\n",
        "        }\n",
        "}\n",
        "return; end\n",
        "```"
      ]
    },
    {
      "cell_type": "markdown",
      "metadata": {
        "id": "b6LlTeQu_zRC"
      },
      "source": [
        "> **<tt>Your explanation:</tt>**  Type answer here. "
      ]
    },
    {
      "cell_type": "markdown",
      "metadata": {
        "id": "lhoduOE1_zRC"
      },
      "source": [
        "### Subroutine 5"
      ]
    },
    {
      "cell_type": "markdown",
      "metadata": {
        "id": "9MYC80t5_zRD"
      },
      "source": [
        "```\n",
        "subroutine grumpy( adj, add, nt,t0,dt, t, xx, yy)\n",
        "\n",
        "integer i1, i1c, adj, add, nt\n",
        "real tc, amp, t0, dt, t, xx\n",
        "real yy(nt)\n",
        "\n",
        "call adjnull(adj, add, xx, 1, yy, nt)\n",
        "\n",
        "tc  = (t-t0) / dt\n",
        "i1c =  tc\n",
        "i1  = 1 + i1c\n",
        "amp = tc - i1c\n",
        "\n",
        "if( 1 <= i1  &&  i1 < nt)\n",
        "        if( adj == 0) {                                \n",
        "                yy(i1  ) = yy(i1  ) + (1.-amp) * xx\n",
        "                yy(i1+1) = yy(i1+1) +   amp    * xx\n",
        "        }\n",
        "        else                                         \n",
        "            \n",
        "\t\t\t\t\t\tINSERT ADJOINT\n",
        "\n",
        "return; end\n",
        "```"
      ]
    },
    {
      "cell_type": "markdown",
      "metadata": {
        "id": "FPeRqW8Q_zRD"
      },
      "source": [
        "> **<tt>Your explanation:</tt>**  Type answer here. "
      ]
    },
    {
      "cell_type": "markdown",
      "metadata": {
        "id": "5Y_5yA5I_zRD"
      },
      "source": [
        "### Subroutine 6"
      ]
    },
    {
      "cell_type": "markdown",
      "metadata": {
        "id": "EukfXgyP_zRD"
      },
      "source": [
        "```\n",
        "subroutine doc( adj, add, n1,n2, xx, yy)\n",
        "\n",
        "integer i1, i2, adj, add, n1, n2\n",
        "real    xx(n1, n2), yy(n1+1, n2+1, 2)\n",
        "\n",
        "call adjnull(adj, add, xx, n1*n2, yy, (n1+1)*(n2+1)*2)\n",
        "do i1= 1, n1 {\n",
        "do i2= 1, n2 {\n",
        "        if( adj == 0 ) {\n",
        "                yy(i1,i2,1)   = yy(i1,i2,1)   + xx(i1,i2)\n",
        "                yy(i1+1,i2,1) = yy(i1+1,i2,1) - xx(i1,i2)\n",
        "                yy(i1,i2,2)   = yy(i1,i2,2)   + xx(i1,i2)\n",
        "                yy(i1,i2+1,2) = yy(i1,i2+1,2) - xx(i1,i2)\n",
        "        }\n",
        "        else {\n",
        "            \n",
        "\t\t\t\t\t\tINSERT ADJOINT\n",
        "\n",
        "        }\n",
        "}}\n",
        "```"
      ]
    },
    {
      "cell_type": "markdown",
      "metadata": {
        "id": "oOgiMFdw_zRD"
      },
      "source": [
        "> **<tt>Your explanation:</tt>**  Type answer here. "
      ]
    },
    {
      "cell_type": "markdown",
      "metadata": {
        "id": "GEyNKi50_zRD"
      },
      "source": [
        "### Subroutine 7"
      ]
    },
    {
      "cell_type": "markdown",
      "metadata": {
        "id": "7l-UZJug_zRD"
      },
      "source": [
        "```\n",
        "subroutine snowhite( adj, add, array, n, xx, yy)\n",
        "\n",
        "integer i1, adj, add, n                  \n",
        "real    array(n), xx(n), yy(n)\n",
        "\n",
        "if( adj == 0 ) {\n",
        "        if( add == 0 ) { do i1=1,n {  yy(i1) =          array(i1) * xx(i1) } }\n",
        "        else           { do i1=1,n {  yy(i1) = yy(i1) + array(i1) * xx(i1) } }\n",
        "}\n",
        "else {  \n",
        "            \n",
        "\t\t\t\t\t\tINSERT ADJOINT\n",
        "\n",
        "}\n",
        "return; end\n",
        "```"
      ]
    },
    {
      "cell_type": "markdown",
      "metadata": {
        "id": "JdBk22Lf_zRE"
      },
      "source": [
        "> **<tt>Your explanation:</tt>**  Type answer here. "
      ]
    },
    {
      "cell_type": "markdown",
      "metadata": {
        "id": "jlGqor9X_zRE"
      },
      "source": [
        "### Subroutine 8"
      ]
    },
    {
      "cell_type": "markdown",
      "metadata": {
        "id": "dZXGgI0k_zRE"
      },
      "source": [
        "```\n",
        "subroutine sneezy( adj, add, array, x, t0, dt, n,xx, yy)\n",
        "\n",
        "integer  i1, i2, adj, add, n\n",
        "real     xs, t , z, x, t0, dt\n",
        "real     array(n), xx(n), yy(n)\n",
        "\n",
        "call adjnull(adj, add, xx, n, yy, n)\n",
        "\n",
        "do i2= 1, n {\n",
        "        z = t0 + dt*(i2-1)              \n",
        "        xs= x * array(i2)\n",
        "        t = sqrt ( z * z + xs * xs)\n",
        "        i1= 1 + .5 + (t - t0) / dt     \n",
        "        if( i1 <= n )\n",
        "                if( adj == 0 )\n",
        "                        yy(i1) = yy(i1) + xx(i2)\n",
        "                else\n",
        "            \n",
        "\t\t\t\t\t\tINSERT ADJOINT\n",
        "\n",
        "}\n",
        "return; end\n",
        "```"
      ]
    },
    {
      "cell_type": "markdown",
      "metadata": {
        "id": "HdPziqiX_zRE"
      },
      "source": [
        "> **<tt>Your explanation:</tt>**  Type answer here. "
      ]
    },
    {
      "cell_type": "markdown",
      "metadata": {
        "id": "tcRyhvmi_zRE"
      },
      "source": [
        "### Subroutine 8"
      ]
    },
    {
      "cell_type": "markdown",
      "metadata": {
        "id": "0JmblfWQ_zRE"
      },
      "source": [
        "```\n",
        "subroutine dopey( adj, n, xx, yy)\n",
        "\n",
        "integer i1, adj, n\n",
        "real    xx(n), yy( n-1)\n",
        "\n",
        "call adjnull(adj, 0, xx,n,  yy, n-1)\n",
        "do i1= 1, n-1 {\n",
        "        if( adj == 0 )\n",
        "                yy(i1) = yy(i1) + xx(i1+1) - xx(i1)\n",
        "        else {\n",
        "            \n",
        "\t\t\t\t\t\tINSERT ADJOINT\n",
        "\n",
        "        }\n",
        "}\n",
        "return; end\n",
        "```"
      ]
    },
    {
      "cell_type": "markdown",
      "metadata": {
        "id": "pJLHcL-s_zRF"
      },
      "source": [
        "> **<tt>Your explanation:</tt>**  Type answer here. "
      ]
    },
    {
      "cell_type": "markdown",
      "metadata": {
        "id": "j4jkV1WA_zRF"
      },
      "source": [
        "## Adjoints"
      ]
    },
    {
      "cell_type": "markdown",
      "metadata": {
        "id": "sRKrEZOm_zRF"
      },
      "source": [
        "### Adjoint A"
      ]
    },
    {
      "cell_type": "markdown",
      "metadata": {
        "id": "1ut5-rrt_zRF"
      },
      "source": [
        "```\n",
        "xx(i1) = 0. \n",
        "```"
      ]
    },
    {
      "cell_type": "markdown",
      "metadata": {
        "id": "aYY7CvRi_zRF"
      },
      "source": [
        "### Adjoint B"
      ]
    },
    {
      "cell_type": "markdown",
      "metadata": {
        "id": "baELytvt_zRF"
      },
      "source": [
        "```\n",
        "xx = xx + (1.-amp) * yy(i1)  +  amp * yy(i1+1)\n",
        "```"
      ]
    },
    {
      "cell_type": "markdown",
      "metadata": {
        "id": "xTNyEeG3_zRG"
      },
      "source": [
        "### Adjoint C"
      ]
    },
    {
      "cell_type": "markdown",
      "metadata": {
        "id": "_92HfbPR_zRG"
      },
      "source": [
        "```\n",
        "xx(i2) = xx(i2)+yy(i1)+yy(i1-1)\n",
        "```"
      ]
    },
    {
      "cell_type": "markdown",
      "metadata": {
        "id": "B5aC0Hcn_zRG"
      },
      "source": [
        "### Adjoint D"
      ]
    },
    {
      "cell_type": "markdown",
      "metadata": {
        "id": "FHiLxI4p_zRG"
      },
      "source": [
        "```\n",
        "do i1= 1, nx\n",
        "           xx(i1) = 0.\n",
        "```"
      ]
    },
    {
      "cell_type": "markdown",
      "metadata": {
        "id": "lc_7Lz6Q_zRG"
      },
      "source": [
        "### Adjoint E"
      ]
    },
    {
      "cell_type": "markdown",
      "metadata": {
        "id": "qv7mCWcP_zRH"
      },
      "source": [
        "```\n",
        "if(add == 0) {do i1=1,n {  xx(i1) = array(i1)*yy(i1)+(1-array(i1))*yy(i1-1)}\n",
        "else {do i1=1,n {  xx(i1) = xx(i1) + array(i1)*yy(i1)+(1-array(i1))*yy(i1-1)}\n",
        "```"
      ]
    },
    {
      "cell_type": "markdown",
      "metadata": {
        "id": "GNdT3hsu_zRH"
      },
      "source": [
        "### Adjoint F"
      ]
    },
    {
      "cell_type": "markdown",
      "metadata": {
        "id": "ilxh1l0q_zRH"
      },
      "source": [
        "```\n",
        "xx(i2,i3)=xx(i2,i3)+yy(i1,i3+i4)*amp\n",
        "```"
      ]
    },
    {
      "cell_type": "markdown",
      "metadata": {
        "id": "wJyVzCXt_zRH"
      },
      "source": [
        "### Adjoint G"
      ]
    },
    {
      "cell_type": "markdown",
      "metadata": {
        "id": "Q7O4OQku_zRH"
      },
      "source": [
        "```\n",
        "if(add == 0) { do i1=1,n {  xx(i1) = array(i1) * yy(i1) } }\n",
        "else { do i1=1,n {  xx(i1) = xx(i1) + array(i1) * yy(i1) } }\n",
        "```"
      ]
    },
    {
      "cell_type": "markdown",
      "metadata": {
        "id": "ydJZRDlM_zRH"
      },
      "source": [
        "### Adjoint H"
      ]
    },
    {
      "cell_type": "markdown",
      "metadata": {
        "id": "GVN-lNUS_zRH"
      },
      "source": [
        "```\n",
        "xx = xx + (1-amp)*yy(i1) + yy(i1-1)\n",
        "```"
      ]
    },
    {
      "cell_type": "markdown",
      "metadata": {
        "id": "YPH01sJ__zRI"
      },
      "source": [
        "### Adjoint I"
      ]
    },
    {
      "cell_type": "markdown",
      "metadata": {
        "id": "SmzUa45f_zRI"
      },
      "source": [
        "```\n",
        "xx(i1) = xx(i1) + array(i2) * yy(i1+i2-1)\n",
        "```"
      ]
    },
    {
      "cell_type": "markdown",
      "metadata": {
        "id": "WdGKNrnB_zRI"
      },
      "source": [
        "### Adjoint J"
      ]
    },
    {
      "cell_type": "markdown",
      "metadata": {
        "id": "sO6G9-Xm_zRI"
      },
      "source": [
        "```\n",
        "xx(i1+1) = xx(i1+1) + yy(i1)\n",
        "xx(i1)   = xx(i1)   - yy(i1)\n",
        "```"
      ]
    },
    {
      "cell_type": "markdown",
      "metadata": {
        "id": "3ftQdgrH_zRI"
      },
      "source": [
        "### Adjoint K"
      ]
    },
    {
      "cell_type": "markdown",
      "metadata": {
        "id": "Z5elmto8_zRJ"
      },
      "source": [
        "```\n",
        "xx(i1+1) = xx(i1) + yy(i1+1)\n",
        "xx(i1)   = xx(i1) - yy(i1-1)\n",
        "```"
      ]
    },
    {
      "cell_type": "markdown",
      "metadata": {
        "id": "9ZTfuisJ_zRJ"
      },
      "source": [
        "### Adjoint L"
      ]
    },
    {
      "cell_type": "markdown",
      "metadata": {
        "id": "8pp6nak6_zRJ"
      },
      "source": [
        "```\n",
        "xx(i2) = xx(i2) + yy(i1)\n",
        "```"
      ]
    },
    {
      "cell_type": "markdown",
      "metadata": {
        "id": "If-MDIHa_zRJ"
      },
      "source": [
        "### Adjoint M"
      ]
    },
    {
      "cell_type": "markdown",
      "metadata": {
        "id": "i66uKVF3_zRJ"
      },
      "source": [
        "```\n",
        "xx(i1+1,i2) = xx(i1+1,i2) + yy(i1,i2,1)\n",
        "xx(i1,i2)   = xx(i1,i2)   - yy(i1,i2,1)\n",
        "xx(i1,i2+1) = xx(i1,i2+1) + yy(i1,i2,2)\n",
        "xx(i1,i2)   = xx(i1,i2)   - yy(i1,i2,2)\n",
        "```"
      ]
    },
    {
      "cell_type": "markdown",
      "metadata": {
        "id": "V9uumUMZ_zRJ"
      },
      "source": [
        "### Adjoint N"
      ]
    },
    {
      "cell_type": "markdown",
      "metadata": {
        "id": "ipi6Zeth_zRK"
      },
      "source": [
        "```\n",
        "xx(i1,i2) = xx(i1,i2) + (yy(i1,i2,1)-yy(i1+1,i2,1) +\n",
        "                                 yy(i1,i2,2)-yy(i1,i2+1,2))\n",
        "```"
      ]
    },
    {
      "cell_type": "markdown",
      "metadata": {
        "id": "IPfskyZt_zRK"
      },
      "source": [
        "### Adjoint O"
      ]
    },
    {
      "cell_type": "markdown",
      "metadata": {
        "id": "ZLeuF8LP_zRK"
      },
      "source": [
        "```\n",
        "xx(i2,i3)    = xx(i2,i3)    + yy(i1,i3+i4)*amp\n",
        "xx(i2,i3+i4) = xx(i2,i3+i4) + yy(i1,i3)*amp\n",
        "```"
      ]
    },
    {
      "cell_type": "markdown",
      "metadata": {
        "id": "Qo5wJmgH_zRK"
      },
      "source": [
        "### Adjoint P"
      ]
    },
    {
      "cell_type": "markdown",
      "metadata": {
        "id": "kpqMqlPK_zRK"
      },
      "source": [
        "```\n",
        "xx(i1)   = xx(i1)   + array(i2)*yy(i1+i2-1)\n",
        "        xx(i1+1) = xx(i1+1) + array(i2)*yy(i1+i2)\n",
        "```"
      ]
    }
  ],
  "metadata": {
    "kernelspec": {
      "display_name": "Python 3",
      "language": "python",
      "name": "python3"
    },
    "language_info": {
      "codemirror_mode": {
        "name": "ipython",
        "version": 3
      },
      "file_extension": ".py",
      "mimetype": "text/x-python",
      "name": "python",
      "nbconvert_exporter": "python",
      "pygments_lexer": "ipython3",
      "version": "3.7.4"
    },
    "colab": {
      "provenance": []
    }
  },
  "nbformat": 4,
  "nbformat_minor": 0
}